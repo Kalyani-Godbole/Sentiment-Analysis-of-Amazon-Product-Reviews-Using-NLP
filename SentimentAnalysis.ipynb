{
 "cells": [
  {
   "cell_type": "code",
   "execution_count": 2,
   "metadata": {},
   "outputs": [
    {
     "name": "stdout",
     "output_type": "stream",
     "text": [
      "Requirement already satisfied: vaderSentiment in c:\\users\\dhananjay metangale\\appdata\\local\\programs\\python\\python39\\lib\\site-packages (3.3.2)\n",
      "Requirement already satisfied: requests in c:\\users\\dhananjay metangale\\appdata\\local\\programs\\python\\python39\\lib\\site-packages (from vaderSentiment) (2.31.0)\n",
      "Requirement already satisfied: charset-normalizer<4,>=2 in c:\\users\\dhananjay metangale\\appdata\\local\\programs\\python\\python39\\lib\\site-packages (from requests->vaderSentiment) (2.1.1)\n",
      "Requirement already satisfied: idna<4,>=2.5 in c:\\users\\dhananjay metangale\\appdata\\local\\programs\\python\\python39\\lib\\site-packages (from requests->vaderSentiment) (2.10)\n",
      "Requirement already satisfied: urllib3<3,>=1.21.1 in c:\\users\\dhananjay metangale\\appdata\\local\\programs\\python\\python39\\lib\\site-packages (from requests->vaderSentiment) (1.26.7)\n",
      "Requirement already satisfied: certifi>=2017.4.17 in c:\\users\\dhananjay metangale\\appdata\\local\\programs\\python\\python39\\lib\\site-packages (from requests->vaderSentiment) (2021.10.8)\n"
     ]
    },
    {
     "name": "stderr",
     "output_type": "stream",
     "text": [
      "\n",
      "[notice] A new release of pip is available: 25.1.1 -> 25.2\n",
      "[notice] To update, run: python.exe -m pip install --upgrade pip\n",
      "ERROR: Could not find a version that satisfies the requirement tkinter (from versions: none)\n",
      "\n",
      "[notice] A new release of pip is available: 25.1.1 -> 25.2\n",
      "[notice] To update, run: python.exe -m pip install --upgrade pip\n",
      "ERROR: No matching distribution found for tkinter\n"
     ]
    }
   ],
   "source": [
    "!pip install vaderSentiment\n",
    "!pip install tkinter"
   ]
  },
  {
   "cell_type": "code",
   "execution_count": 3,
   "metadata": {},
   "outputs": [],
   "source": [
    "import pandas as pd\n",
    "from vaderSentiment.vaderSentiment import SentimentIntensityAnalyzer"
   ]
  },
  {
   "cell_type": "code",
   "execution_count": 4,
   "metadata": {},
   "outputs": [],
   "source": [
    "df = pd.read_csv(\"C:/Users/Dhananjay Metangale/Downloads/amazon_reviews.csv\")\n",
    "\n",
    "analyzer = SentimentIntensityAnalyzer()\n",
    "\n",
    "# Function to classify sentiment into 5 categories\n",
    "def classify_sentiment(text):\n",
    "    score = analyzer.polarity_scores(str(text))['compound']  \n",
    "    if score >= 0.6:\n",
    "        return \"Highly Satisfied\"\n",
    "    elif score >= 0.2:\n",
    "        return \"Moderately Satisfied\"\n",
    "    elif score > -0.2:\n",
    "        return \"Neutral\"\n",
    "    elif score > -0.6:\n",
    "        return \"Dissatisfied\"\n",
    "    else:\n",
    "        return \"Highly Dissatisfied\"\n",
    "\n",
    "# Create new column \"Sentiment\"\n",
    "df[\"Sentiment\"] = df[\"comment_text\"].apply(classify_sentiment)\n",
    "\n",
    "# Show DataFrame\n",
    "#print(df)"
   ]
  },
  {
   "cell_type": "code",
   "execution_count": 6,
   "metadata": {},
   "outputs": [
    {
     "name": "stdout",
     "output_type": "stream",
     "text": [
      "CSV file exported successfully!\n"
     ]
    }
   ],
   "source": [
    "df.to_csv(\"classified_amazon_reviews.csv\", index=False)\n",
    "print(\"CSV file exported successfully!\")"
   ]
  },
  {
   "cell_type": "code",
   "execution_count": 7,
   "metadata": {},
   "outputs": [],
   "source": [
    "# Install dependencies first:\n",
    "# pip install vaderSentiment\n",
    "\n",
    "import tkinter as tk\n",
    "from vaderSentiment.vaderSentiment import SentimentIntensityAnalyzer\n",
    "\n",
    "# Initialize VADER\n",
    "analyzer = SentimentIntensityAnalyzer()\n",
    "\n",
    "# Function to analyze sentiment\n",
    "def analyze_sentiment():\n",
    "    text = entry.get(\"1.0\", tk.END).strip()   # get text from Textbox\n",
    "    if not text:\n",
    "        result_label.config(text=\"⚠ Please enter some text!\", fg=\"red\")\n",
    "        return\n",
    "    \n",
    "    score = analyzer.polarity_scores(text)['compound']\n",
    "    \n",
    "    if score >= 0.6:\n",
    "        sentiment = \"Highly Satisfied\"\n",
    "    elif score >= 0.2:\n",
    "        sentiment = \"Moderately Satisfied\"\n",
    "    elif score > -0.2:\n",
    "        sentiment = \"Neutral\"\n",
    "    elif score > -0.6:\n",
    "        sentiment = \"Dissatisfied\"\n",
    "    else:\n",
    "        sentiment = \"Highly Dissatisfied\"\n",
    "    \n",
    "    result_label.config(text=f\"Sentiment: {sentiment}\", fg=\"blue\")\n",
    "\n",
    "# ------------------ GUI ------------------ #\n",
    "root = tk.Tk()\n",
    "root.title(\"Sentiment Analysis with Tkinter\")\n",
    "root.geometry(\"500x350\")\n",
    "\n",
    "# Heading\n",
    "heading = tk.Label(root, text=\"Sentiment Analysis\", font=(\"Arial\", 16, \"bold\"))\n",
    "heading.pack(pady=10)\n",
    "\n",
    "# Textbox\n",
    "entry = tk.Text(root, height=5, width=50, font=(\"Arial\", 12))\n",
    "entry.pack(pady=10)\n",
    "\n",
    "# Analyze Button\n",
    "analyze_btn = tk.Button(root, text=\"Analyze Sentiment\", command=analyze_sentiment, font=(\"Arial\", 12))\n",
    "analyze_btn.pack(pady=10)\n",
    "\n",
    "# Result Label\n",
    "result_label = tk.Label(root, text=\"\", font=(\"Arial\", 14, \"bold\"))\n",
    "result_label.pack(pady=10)\n",
    "\n",
    "root.mainloop()"
   ]
  }
 ],
 "metadata": {
  "colab": {
   "provenance": []
  },
  "kernelspec": {
   "display_name": "Python 3 (ipykernel)",
   "language": "python",
   "name": "python3"
  },
  "language_info": {
   "codemirror_mode": {
    "name": "ipython",
    "version": 3
   },
   "file_extension": ".py",
   "mimetype": "text/x-python",
   "name": "python",
   "nbconvert_exporter": "python",
   "pygments_lexer": "ipython3",
   "version": "3.9.8"
  }
 },
 "nbformat": 4,
 "nbformat_minor": 4
}
